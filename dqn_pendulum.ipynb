{
 "cells": [
  {
   "cell_type": "markdown",
   "metadata": {},
   "source": [
    "# Continuous Pendulum Control\n",
    "Zero reward is the best condition for the pendulum control"
   ]
  },
  {
   "cell_type": "code",
   "execution_count": 2,
   "metadata": {
    "collapsed": false
   },
   "outputs": [],
   "source": [
    "%matplotlib inline\n",
    "%load_ext autoreload\n",
    "%autoreload 2\n",
    "\n",
    "from env_pendulum import PendulumEnv\n",
    "\n",
    "from itertools import count\n",
    "import torch\n",
    "import gym\n",
    "from gym.envs.registration import register\n",
    "\n",
    "import matplotlib\n",
    "import matplotlib.pyplot as plt\n",
    "is_ipython = 'inline' in matplotlib.get_backend()\n",
    "if is_ipython:\n",
    "    from IPython import display\n",
    "plt.ion()\n",
    "device = torch.device(\"cuda\" if torch.cuda.is_available() else \"cpu\")"
   ]
  },
  {
   "cell_type": "markdown",
   "metadata": {},
   "source": [
    "# Pendulum Control Gym\n",
    "\n",
    "## Description\n",
    "The inverted pendulum swingup problem is a classic problem in control theory. The system consists of a pendulum attached at one end to a fixed point, with the other end being free. The pendulum starts in a random position, and the goal is to apply torque to the free end to swing it into an upright position, where its center of gravity is right above the fixed point.\n",
    "\n",
    "### Pendulum Coordinate System\n",
    "\n",
    "- **x-y**: Cartesian coordinates of the pendulum’s end in meters.\n",
    "- **theta**: Angle in radians.\n",
    "- **tau**: Torque in N·m, defined as positive counter-clockwise.\n",
    "\n",
    "### Action Space\n",
    "The action is an ndarray with shape `(1,)` representing the torque applied to the free end of the pendulum.\n",
    "\n",
    "| Num | Action | Min | Max |\n",
    "|-----|--------|-----|-----|\n",
    "| 0   | Torque | -2.0| 2.0 |\n",
    "\n",
    "### Observation Space\n",
    "The observation is an ndarray with shape `(3,)` representing the x-y coordinates of the pendulum’s free end and its angular velocity.\n",
    "\n",
    "| Num | Observation      | Min | Max |\n",
    "|-----|------------------|-----|-----|\n",
    "| 0   | x = cos(theta)   | -1.0| 1.0 |\n",
    "| 1   | y = sin(theta)   | -1.0| 1.0 |\n",
    "| 2   | Angular Velocity | -8.0| 8.0 |\n",
    "\n",
    "### Rewards\n",
    "The reward function is defined as:\n",
    "\n",
    "$r = -(theta^2 + 0.1 * theta_dt^2 + 0.001 * torque^2)$\n",
    "\n",
    "where `theta` is the pendulum’s angle normalized between `[-pi, pi]` (with 0 being in the upright position). The minimum reward that can be obtained is `-(pi^2 + 0.1 * 8^2 + 0.001 * 2^2) = -16.2736044`, while the maximum reward is zero (pendulum is upright with zero velocity and no torque applied)."
   ]
  },
  {
   "cell_type": "code",
   "execution_count": 2,
   "metadata": {},
   "outputs": [
    {
     "name": "stderr",
     "output_type": "stream",
     "text": [
      "/Users/kevinb/anaconda3/lib/python3.10/site-packages/gym/envs/registration.py:555: UserWarning: \u001b[33mWARN: The environment Pendulum-v0 is out of date. You should consider upgrading to version `v1`.\u001b[0m\n",
      "  logger.warn(\n"
     ]
    }
   ],
   "source": [
    "register(\n",
    "    id='Pendulum-v0',\n",
    "    entry_point='env_pendulum:PendulumEnv',\n",
    "    max_episode_steps=1000)\n",
    "env = gym.make('Pendulum-v0')"
   ]
  },
  {
   "cell_type": "code",
   "execution_count": 3,
   "metadata": {},
   "outputs": [
    {
     "data": {
      "text/plain": [
       "Box(-2.0, 2.0, (1,), float32)"
      ]
     },
     "execution_count": 3,
     "metadata": {},
     "output_type": "execute_result"
    }
   ],
   "source": [
    "env.action_space"
   ]
  },
  {
   "cell_type": "code",
   "execution_count": 4,
   "metadata": {},
   "outputs": [
    {
     "data": {
      "text/plain": [
       "(-inf, inf)"
      ]
     },
     "execution_count": 4,
     "metadata": {},
     "output_type": "execute_result"
    }
   ],
   "source": [
    "env.reward_range"
   ]
  },
  {
   "cell_type": "code",
   "execution_count": 5,
   "metadata": {},
   "outputs": [
    {
     "data": {
      "text/plain": [
       "Box([-1. -1. -8.], [1. 1. 8.], (3,), float32)"
      ]
     },
     "execution_count": 5,
     "metadata": {},
     "output_type": "execute_result"
    }
   ],
   "source": [
    "env.observation_space"
   ]
  },
  {
   "cell_type": "markdown",
   "metadata": {},
   "source": [
    "Random actions stepping env"
   ]
  },
  {
   "cell_type": "code",
   "execution_count": 125,
   "metadata": {},
   "outputs": [],
   "source": [
    "env = PendulumEnv(render_mode=\"human\")\n",
    "n_actions = env.action_space.shape[0]\n",
    "state, info = env.reset()\n",
    "n_observations = len(state)\n",
    "num_eval_episodes = 10\n",
    "for i_episode in range(num_eval_episodes):\n",
    "    state, info = env.reset()\n",
    "    state = torch.tensor(state, dtype=torch.float32, device=device).unsqueeze(0)\n",
    "    for t in count():\n",
    "        env.render()\n",
    "\n",
    "        action = env.action_space.sample()  # This will generate a random action within the valid range\n",
    "        observation, reward, terminated, truncated, _ = env.step(action)\n",
    "        if terminated or truncated:\n",
    "            print(f\"Episode finished after {t+1} timesteps\")\n",
    "            break\n",
    "\n",
    "        state = torch.tensor(observation, dtype=torch.float32, device=device).unsqueeze(0)\n",
    "env.close()"
   ]
  },
  {
   "cell_type": "markdown",
   "metadata": {},
   "source": [
    "#  DQN Agent Trained\n",
    "Notice that due to the nature of DQN agent, it might be the best for it to operate in a discrete setting, the continuous version of the training may not be the most optimal training condition, so we discretize the action space of pendulum to a discrete condition."
   ]
  },
  {
   "cell_type": "markdown",
   "metadata": {},
   "source": [
    "Now, let\\'s define our model. But first, let\\'s quickly recap what a DQN\n",
    "is.\n",
    "\n",
    "DQN algorithm\n",
    "=============\n",
    "\n",
    "Our environment is deterministic, so all equations presented here are\n",
    "also formulated deterministically for the sake of simplicity. In the\n",
    "reinforcement learning literature, they would also contain expectations\n",
    "over stochastic transitions in the environment.\n",
    "\n",
    "Our aim will be to train a policy that tries to maximize the discounted,\n",
    "cumulative reward\n",
    "$R_{t_0} = \\sum_{t=t_0}^{\\infty} \\gamma^{t - t_0} r_t$, where $R_{t_0}$\n",
    "is also known as the *return*. The discount, $\\gamma$, should be a\n",
    "constant between $0$ and $1$ that ensures the sum converges. A lower\n",
    "$\\gamma$ makes rewards from the uncertain far future less important for\n",
    "our agent than the ones in the near future that it can be fairly\n",
    "confident about. It also encourages agents to collect reward closer in\n",
    "time than equivalent rewards that are temporally far away in the future.\n",
    "\n",
    "The main idea behind Q-learning is that if we had a function\n",
    "$Q^*: State \\times Action \\rightarrow \\mathbb{R}$, that could tell us\n",
    "what our return would be, if we were to take an action in a given state,\n",
    "then we could easily construct a policy that maximizes our rewards:\n",
    "\n",
    "$$\\pi^*(s) = \\arg\\!\\max_a \\ Q^*(s, a)$$\n",
    "\n",
    "However, we don\\'t know everything about the world, so we don\\'t have\n",
    "access to $Q^*$. But, since neural networks are universal function\n",
    "approximators, we can simply create one and train it to resemble $Q^*$.\n",
    "\n",
    "For our training update rule, we\\'ll use a fact that every $Q$ function\n",
    "for some policy obeys the Bellman equation:\n",
    "\n",
    "$$Q^{\\pi}(s, a) = r + \\gamma Q^{\\pi}(s', \\pi(s'))$$\n",
    "\n",
    "The difference between the two sides of the equality is known as the\n",
    "temporal difference error, $\\delta$:\n",
    "\n",
    "$$\\delta = Q(s, a) - (r + \\gamma \\max_a' Q(s', a))$$\n",
    "\n",
    "To minimize this error, we will use the [Huber\n",
    "loss](https://en.wikipedia.org/wiki/Huber_loss). The Huber loss acts\n",
    "like the mean squared error when the error is small, but like the mean\n",
    "absolute error when the error is large - this makes it more robust to\n",
    "outliers when the estimates of $Q$ are very noisy. We calculate this\n",
    "over a batch of transitions, $B$, sampled from the replay memory:\n",
    "\n",
    "$$\\mathcal{L} = \\frac{1}{|B|}\\sum_{(s, a, s', r) \\ \\in \\ B} \\mathcal{L}(\\delta)$$\n",
    "\n",
    "$$\\begin{aligned}\n",
    "\\text{where} \\quad \\mathcal{L}(\\delta) = \\begin{cases}\n",
    "  \\frac{1}{2}{\\delta^2}  & \\text{for } |\\delta| \\le 1, \\\\\n",
    "  |\\delta| - \\frac{1}{2} & \\text{otherwise.}\n",
    "\\end{cases}\n",
    "\\end{aligned}$$\n",
    "\n",
    "Q-network\n",
    "---------\n",
    "\n",
    "Our model will be a feed forward neural network that takes in the\n",
    "difference between the current and previous screen patches. It has two\n",
    "outputs, representing $Q(s, \\mathrm{left})$ and $Q(s, \\mathrm{right})$\n",
    "(where $s$ is the input to the network). In effect, the network is\n",
    "trying to predict the *expected return* of taking each action given the\n",
    "current input."
   ]
  },
  {
   "cell_type": "code",
   "execution_count": 3,
   "metadata": {},
   "outputs": [
    {
     "name": "stderr",
     "output_type": "stream",
     "text": [
      "/Users/kevinb/anaconda3/lib/python3.10/site-packages/gym/envs/registration.py:555: UserWarning: \u001b[33mWARN: The environment Pendulum-v0 is out of date. You should consider upgrading to version `v1`.\u001b[0m\n",
      "  logger.warn(\n",
      "/Users/kevinb/anaconda3/lib/python3.10/site-packages/gym/envs/registration.py:498: UserWarning: \u001b[33mWARN: Overriding environment Pendulum-v0 already in registry.\u001b[0m\n",
      "  logger.warn(f\"Overriding environment {new_spec.id} already in registry.\")\n"
     ]
    }
   ],
   "source": [
    "from dqn_discrete_train import main, load_model_and_evaluate\n",
    "from dqn_continuous_train import main as con_main"
   ]
  },
  {
   "cell_type": "markdown",
   "metadata": {},
   "source": [
    "Calling tarining loop for DQN continuous, nothing is learned"
   ]
  },
  {
   "cell_type": "code",
   "execution_count": 105,
   "metadata": {},
   "outputs": [
    {
     "name": "stdout",
     "output_type": "stream",
     "text": [
      "Complete\n"
     ]
    },
    {
     "data": {
      "image/png": "[encoded data removed]",
      "text/plain": [
       "<Figure size 640x480 with 1 Axes>"
      ]
     },
     "metadata": {},
     "output_type": "display_data"
    },
    {
     "data": {
      "text/plain": [
       "<Figure size 640x480 with 0 Axes>"
      ]
     },
     "metadata": {},
     "output_type": "display_data"
    },
    {
     "data": {
      "text/plain": [
       "<Figure size 640x480 with 0 Axes>"
      ]
     },
     "metadata": {},
     "output_type": "display_data"
    }
   ],
   "source": [
    "con_main()"
   ]
  },
  {
   "cell_type": "markdown",
   "metadata": {},
   "source": [
    "Calling tarining loop for DQN discrete.\n",
    "\n",
    "There are certain limits to the algorithm that you use: DQN may have limits performing in the continuous environments like pendulum, maybe the only way for it to perform well in the pendulum condition is to use discretization (classic problems faced in RL)"
   ]
  },
  {
   "cell_type": "code",
   "execution_count": 89,
   "metadata": {},
   "outputs": [
    {
     "name": "stdout",
     "output_type": "stream",
     "text": [
      "Complete\n"
     ]
    },
    {
     "data": {
      "image/png": "[encoded data removed]",
      "text/plain": [
       "<Figure size 640x480 with 1 Axes>"
      ]
     },
     "metadata": {},
     "output_type": "display_data"
    },
    {
     "data": {
      "text/plain": [
       "<Figure size 640x480 with 0 Axes>"
      ]
     },
     "metadata": {},
     "output_type": "display_data"
    },
    {
     "data": {
      "text/plain": [
       "<Figure size 640x480 with 0 Axes>"
      ]
     },
     "metadata": {},
     "output_type": "display_data"
    }
   ],
   "source": [
    "main()"
   ]
  },
  {
   "cell_type": "markdown",
   "metadata": {},
   "source": [
    "Quite big of a flunctuation in training"
   ]
  },
  {
   "cell_type": "markdown",
   "metadata": {},
   "source": [
    "# Conitual Training Using Previous Weights\n",
    "Only loading in the policy network, not the rest of teh information"
   ]
  },
  {
   "cell_type": "code",
   "execution_count": 101,
   "metadata": {},
   "outputs": [
    {
     "name": "stdout",
     "output_type": "stream",
     "text": [
      "Complete\n"
     ]
    },
    {
     "data": {
      "image/png": "[encoded data removed]",
      "text/plain": [
       "<Figure size 640x480 with 1 Axes>"
      ]
     },
     "metadata": {},
     "output_type": "display_data"
    },
    {
     "data": {
      "text/plain": [
       "<Figure size 640x480 with 0 Axes>"
      ]
     },
     "metadata": {},
     "output_type": "display_data"
    },
    {
     "data": {
      "text/plain": [
       "<Figure size 640x480 with 0 Axes>"
      ]
     },
     "metadata": {},
     "output_type": "display_data"
    }
   ],
   "source": [
    "main('params/pendulum_dqn_discrete.pth')"
   ]
  },
  {
   "cell_type": "markdown",
   "metadata": {},
   "source": [
    "# Evaluation of Model"
   ]
  },
  {
   "cell_type": "code",
   "execution_count": 5,
   "metadata": {},
   "outputs": [],
   "source": [
    "from dqn_networks import DQN\n",
    "import numpy as np\n",
    "\n",
    "path = 'params/pendulum_dqn_discrete_retrain.pth'\n",
    "\n",
    "env = PendulumEnv(render_mode=\"human\")\n",
    "ACTION_MAP = np.linspace(-2, 2, 5)  # 5 actions ranging from -2 to 2\n",
    "n_actions = len(ACTION_MAP)\n",
    "state, info = env.reset()\n",
    "n_observations = len(state)\n",
    "\n",
    "model = DQN(n_observations, n_actions).to(device)\n",
    "model.load_state_dict(torch.load(path, map_location=device))\n",
    "model.eval()\n",
    "\n",
    "num_eval_episodes = 10\n",
    "for i_episode in range(num_eval_episodes):\n",
    "    state, info = env.reset()\n",
    "    state = torch.tensor(state, dtype=torch.float32, device=device).unsqueeze(0)\n",
    "    for t in count():\n",
    "        env.render()\n",
    "\n",
    "        action_idx = model(state).max(1)[1]\n",
    "        actual_action = ACTION_MAP[action_idx.item()]\n",
    "\n",
    "        observation, reward, terminated, truncated, _ = env.step([actual_action])\n",
    "        if terminated or truncated:\n",
    "            print(f\"Episode finished after {t+1} timesteps\")\n",
    "            break\n",
    "\n",
    "        state = torch.tensor(observation, dtype=torch.float32, device=device).unsqueeze(0)\n",
    "        \n",
    "env.close()"
   ]
  },
  {
   "cell_type": "markdown",
   "metadata": {},
   "source": [
    "# AGOP of DQN\n",
    "Since DQN discretization, it is somewhat like an multi-class classification task now"
   ]
  },
  {
   "cell_type": "code",
   "execution_count": 3,
   "metadata": {},
   "outputs": [],
   "source": [
    "from dqn_agop_train import PendulumControl\n",
    "import torch.nn as nn\n",
    "from dqn_networks import DQN\n",
    "import numpy as np"
   ]
  },
  {
   "cell_type": "markdown",
   "metadata": {},
   "source": [
    "## Calculate AGOP From Matrix (not useful)"
   ]
  },
  {
   "cell_type": "code",
   "execution_count": 4,
   "metadata": {},
   "outputs": [
    {
     "name": "stderr",
     "output_type": "stream",
     "text": [
      "/Users/kevinb/anaconda3/lib/python3.10/site-packages/gym/envs/registration.py:555: UserWarning: \u001b[33mWARN: The environment Pendulum-v0 is out of date. You should consider upgrading to version `v1`.\u001b[0m\n",
      "  logger.warn(\n"
     ]
    }
   ],
   "source": [
    "register(\n",
    "    id='Pendulum-v0',\n",
    "    entry_point='env_pendulum:PendulumEnv',\n",
    "    max_episode_steps=300)\n",
    "env = gym.make('Pendulum-v0')"
   ]
  },
  {
   "cell_type": "code",
   "execution_count": 5,
   "metadata": {},
   "outputs": [
    {
     "data": {
      "text/plain": [
       "DQN(\n",
       "  (layer1): Linear(in_features=3, out_features=128, bias=True)\n",
       "  (layer2): Linear(in_features=128, out_features=128, bias=True)\n",
       "  (layer3): Linear(in_features=128, out_features=5, bias=True)\n",
       ")"
      ]
     },
     "execution_count": 5,
     "metadata": {},
     "output_type": "execute_result"
    }
   ],
   "source": [
    "ACTION_MAP = np.linspace(-2, 2, 5)  # 5 actions ranging from -2 to 2\n",
    "n_actions = len(ACTION_MAP)\n",
    "state, info = env.reset()\n",
    "n_observations = len(state)\n",
    "\n",
    "model = DQN(n_observations, n_actions).to(device)\n",
    "model.load_state_dict(torch.load('params/pendulum_dqn_discrete_retrain.pth'))\n",
    "model.eval()"
   ]
  },
  {
   "cell_type": "code",
   "execution_count": 6,
   "metadata": {},
   "outputs": [],
   "source": [
    "# Create dummy input based on the input size your network expects\n",
    "dummy_input = torch.randn(1, n_observations, device=device)\n",
    "\n",
    "# Create dummy target output for loss calculation\n",
    "dummy_target = torch.randn(1, n_actions, device=device)"
   ]
  },
  {
   "cell_type": "code",
   "execution_count": 7,
   "metadata": {},
   "outputs": [],
   "source": [
    "output = model(dummy_input)\n",
    "loss_fn = nn.MSELoss()\n",
    "loss = loss_fn(output, dummy_target)\n",
    "model.zero_grad()\n",
    "loss.backward()"
   ]
  },
  {
   "cell_type": "code",
   "execution_count": 8,
   "metadata": {},
   "outputs": [
    {
     "name": "stdout",
     "output_type": "stream",
     "text": [
      "layer1.weight: tensor([[ 9.6231e+03, -1.8408e+05,  1.3263e+05,  ...,  2.3062e+02,\n",
      "         -4.4116e+03,  3.1787e+03],\n",
      "        [-1.8408e+05,  3.5212e+06, -2.5372e+06,  ..., -4.4116e+03,\n",
      "          8.4388e+04, -6.0804e+04],\n",
      "        [ 1.3263e+05, -2.5372e+06,  1.8281e+06,  ...,  3.1787e+03,\n",
      "         -6.0804e+04,  4.3812e+04],\n",
      "        ...,\n",
      "        [ 2.3062e+02, -4.4116e+03,  3.1787e+03,  ...,  5.5270e+00,\n",
      "         -1.0573e+02,  7.6179e+01],\n",
      "        [-4.4116e+03,  8.4388e+04, -6.0804e+04,  ..., -1.0573e+02,\n",
      "          2.0224e+03, -1.4572e+03],\n",
      "        [ 3.1787e+03, -6.0804e+04,  4.3812e+04,  ...,  7.6179e+01,\n",
      "         -1.4572e+03,  1.0500e+03]])\n",
      "layer1.bias: tensor([[6.3667e+06, 0.0000e+00, 3.9203e+06,  ..., 7.3146e+06, 2.0287e+06,\n",
      "         1.5258e+05],\n",
      "        [0.0000e+00, 0.0000e+00, 0.0000e+00,  ..., 0.0000e+00, 0.0000e+00,\n",
      "         0.0000e+00],\n",
      "        [3.9203e+06, 0.0000e+00, 2.4139e+06,  ..., 4.5040e+06, 1.2491e+06,\n",
      "         9.3952e+04],\n",
      "        ...,\n",
      "        [7.3146e+06, 0.0000e+00, 4.5040e+06,  ..., 8.4036e+06, 2.3307e+06,\n",
      "         1.7530e+05],\n",
      "        [2.0287e+06, 0.0000e+00, 1.2491e+06,  ..., 2.3307e+06, 6.4640e+05,\n",
      "         4.8618e+04],\n",
      "        [1.5258e+05, 0.0000e+00, 9.3952e+04,  ..., 1.7530e+05, 4.8618e+04,\n",
      "         3.6567e+03]])\n",
      "layer2.weight: tensor([[ 2645.4006,    -0.0000,  6047.0278,  ..., -3046.5029, -3694.1702,\n",
      "         -4050.6794],\n",
      "        [   -0.0000,     0.0000,    -0.0000,  ...,     0.0000,     0.0000,\n",
      "             0.0000],\n",
      "        [ 6047.0278,    -0.0000, 13822.6875,  ..., -6963.8940, -8444.3740,\n",
      "         -9259.3057],\n",
      "        ...,\n",
      "        [-3046.5029,     0.0000, -6963.8940,  ...,  3508.4219,  4254.2900,\n",
      "          4664.8540],\n",
      "        [-3694.1702,     0.0000, -8444.3740,  ...,  4254.2900,  5158.7251,\n",
      "          5656.5723],\n",
      "        [-4050.6794,     0.0000, -9259.3057,  ...,  4664.8540,  5656.5723,\n",
      "          6202.4648]])\n",
      "layer2.bias: tensor([[ 39551.1875,   5627.7070, -25480.8750,  ...,     -0.0000,\n",
      "             -0.0000, -18050.6973],\n",
      "        [  5627.7070,    800.7620,  -3625.6533,  ...,     -0.0000,\n",
      "             -0.0000,  -2568.4192],\n",
      "        [-25480.8750,  -3625.6533,  16416.0684,  ...,      0.0000,\n",
      "              0.0000,  11629.1719],\n",
      "        ...,\n",
      "        [    -0.0000,     -0.0000,      0.0000,  ...,      0.0000,\n",
      "              0.0000,      0.0000],\n",
      "        [    -0.0000,     -0.0000,      0.0000,  ...,      0.0000,\n",
      "              0.0000,      0.0000],\n",
      "        [-18050.6973,  -2568.4192,  11629.1719,  ...,      0.0000,\n",
      "              0.0000,   8238.1260]])\n",
      "layer3.weight: tensor([[   2201.4519,   48914.9648,   33716.7148,  ...,      -0.0000,\n",
      "              -0.0000,   34511.6680],\n",
      "        [  48914.9648, 1086861.6250,  749165.5625,  ...,      -0.0000,\n",
      "              -0.0000,  766828.8125],\n",
      "        [  33716.7148,  749165.5625,  516394.1562,  ...,      -0.0000,\n",
      "              -0.0000,  528569.3125],\n",
      "        ...,\n",
      "        [     -0.0000,      -0.0000,      -0.0000,  ...,       0.0000,\n",
      "               0.0000,      -0.0000],\n",
      "        [     -0.0000,      -0.0000,      -0.0000,  ...,       0.0000,\n",
      "               0.0000,      -0.0000],\n",
      "        [  34511.6680,  766828.8125,  528569.3125,  ...,      -0.0000,\n",
      "              -0.0000,  541031.5625]])\n",
      "layer3.bias: tensor([[3345.1475, 2650.7007, 1784.5822, 1969.3759, 4258.7476],\n",
      "        [2650.7007, 2100.4197, 1414.1060, 1560.5367, 3374.6387],\n",
      "        [1784.5822, 1414.1060,  952.0457, 1050.6301, 2271.9729],\n",
      "        [1969.3759, 1560.5367, 1050.6301, 1159.4230, 2507.2358],\n",
      "        [4258.7476, 3374.6387, 2271.9729, 2507.2358, 5421.8618]])\n"
     ]
    }
   ],
   "source": [
    "average_outer_products = {}\n",
    "\n",
    "# Compute the outer product of gradients for each parameter\n",
    "for name, param in model.named_parameters():\n",
    "    if param.grad is not None:\n",
    "        grad = param.grad.view(-1)\n",
    "        outer_product = torch.ger(grad, grad)\n",
    "\n",
    "        # Aggregate outer products\n",
    "        if name in average_outer_products:\n",
    "            average_outer_products[name] += outer_product\n",
    "        else:\n",
    "            average_outer_products[name] = outer_product\n",
    "\n",
    "# Average the outer products if necessary\n",
    "for name, op in average_outer_products.items():\n",
    "    average_outer_products[name] = op / len(average_outer_products)  # example averaging method\n",
    "    print(f\"{name}: {average_outer_products[name]}\")"
   ]
  },
  {
   "cell_type": "code",
   "execution_count": 9,
   "metadata": {},
   "outputs": [
    {
     "data": {
      "text/plain": [
       "dict_keys(['layer1.weight', 'layer1.bias', 'layer2.weight', 'layer2.bias', 'layer3.weight', 'layer3.bias'])"
      ]
     },
     "execution_count": 9,
     "metadata": {},
     "output_type": "execute_result"
    }
   ],
   "source": [
    "average_outer_products.keys()"
   ]
  },
  {
   "cell_type": "markdown",
   "metadata": {},
   "source": [
    "## Get Some Data from DQN"
   ]
  },
  {
   "cell_type": "code",
   "execution_count": 37,
   "metadata": {},
   "outputs": [],
   "source": [
    "def collect_data_from_dqn(env, policy_net, episodes, steps_per_episode):\n",
    "    states = []\n",
    "    actions = []\n",
    "    for _ in range(episodes):\n",
    "        state, info = env.reset()\n",
    "        state = torch.tensor(state, dtype=torch.float32, device=device).unsqueeze(0)\n",
    "        for _ in range(steps_per_episode):\n",
    "            action_index = policy_net(state).max(1)[1]\n",
    "            actual_action = ACTION_MAP[action_index]\n",
    "            observation, reward, terminated, truncated, _ = env.step([actual_action])\n",
    "            states.append(state.squeeze())\n",
    "            actions.append(actual_action)\n",
    "\n",
    "            if terminated or truncated:\n",
    "                print(f\"Episode finished after {t+1} timesteps\")\n",
    "                break\n",
    "\n",
    "        state = torch.tensor(observation, dtype=torch.float32, device=device).unsqueeze(0)\n",
    "\n",
    "    return states, actions\n",
    "\n",
    "train_states, train_actions = collect_data_from_dqn(env, model, 50, 200)"
   ]
  },
  {
   "cell_type": "code",
   "execution_count": 38,
   "metadata": {},
   "outputs": [],
   "source": [
    "train_states, train_actions = np.array([tensor.cpu().numpy() for tensor in train_states]), np.array(train_actions)"
   ]
  },
  {
   "cell_type": "code",
   "execution_count": 39,
   "metadata": {},
   "outputs": [
    {
     "data": {
      "text/plain": [
       "((10000, 3), (10000,))"
      ]
     },
     "execution_count": 39,
     "metadata": {},
     "output_type": "execute_result"
    }
   ],
   "source": [
    "train_states.shape, train_actions.shape"
   ]
  },
  {
   "cell_type": "code",
   "execution_count": 40,
   "metadata": {},
   "outputs": [],
   "source": [
    "# controller = PendulumControl(average_outer_products, num_components=3)\n",
    "# total_reward = controller.train_and_evaluate(train_states, train_actions)\n",
    "# print(f\"Total Reward from Controlled Run: {total_reward}\")"
   ]
  },
  {
   "cell_type": "code",
   "execution_count": 41,
   "metadata": {},
   "outputs": [],
   "source": [
    "test_size = 0.2 \n",
    "X, y = train_states, train_actions\n",
    "\n",
    "num_test_samples = int(len(X) * test_size)\n",
    "indices = np.arange(len(X))\n",
    "np.random.shuffle(indices)\n",
    "\n",
    "test_indices = indices[:num_test_samples]\n",
    "train_indices = indices[num_test_samples:]\n",
    "\n",
    "train_X, train_y = X[train_indices], y[train_indices]\n",
    "test_X, test_y = X[test_indices], y[test_indices]"
   ]
  },
  {
   "cell_type": "code",
   "execution_count": 42,
   "metadata": {},
   "outputs": [],
   "source": [
    "from rfm import rfm"
   ]
  },
  {
   "cell_type": "code",
   "execution_count": 43,
   "metadata": {},
   "outputs": [],
   "source": [
    "import torch\n",
    "from torch.utils.data import Dataset, DataLoader\n",
    "import numpy as np\n",
    "\n",
    "data_train = torch.from_numpy(train_X).float()\n",
    "labels_train = torch.from_numpy(train_y).long()\n",
    "\n",
    "data_test = torch.from_numpy(test_X).float()\n",
    "labels_test = torch.from_numpy(test_y).long()\n",
    "\n",
    "class CustomDataset(Dataset):\n",
    "    def __init__(self, data, labels):\n",
    "        self.data = data\n",
    "        self.labels = labels\n",
    "\n",
    "    def __len__(self):\n",
    "        return len(self.data)\n",
    "\n",
    "    def __getitem__(self, index):\n",
    "        return self.data[index], self.labels[index]\n",
    "\n",
    "data_train = CustomDataset(data_train, labels_train)\n",
    "data_test = CustomDataset(data_test, labels_test)\n",
    "\n",
    "batch_size = 128\n",
    "shuffle = True\n",
    "train_loader = DataLoader(data_train, batch_size=batch_size, shuffle=shuffle)\n",
    "test_loader = DataLoader(data_test, batch_size=batch_size, shuffle=shuffle)"
   ]
  },
  {
   "cell_type": "code",
   "execution_count": 44,
   "metadata": {},
   "outputs": [
    {
     "data": {
      "text/plain": [
       "<torch.utils.data.dataloader.DataLoader at 0x33558d9f0>"
      ]
     },
     "execution_count": 44,
     "metadata": {},
     "output_type": "execute_result"
    }
   ],
   "source": [
    "train_loader"
   ]
  },
  {
   "cell_type": "markdown",
   "metadata": {},
   "source": [
    "Notice that sometimes problem occurs because of the data format differences. For instance, data y here is using the shape (8000, 1) instead of shape of (8000) directly."
   ]
  },
  {
   "cell_type": "code",
   "execution_count": 45,
   "metadata": {},
   "outputs": [],
   "source": [
    "train_y = train_y.reshape([train_y.shape[0],1])\n",
    "test_y = test_y.reshape([test_y.shape[0],1])"
   ]
  },
  {
   "cell_type": "code",
   "execution_count": 46,
   "metadata": {},
   "outputs": [],
   "source": [
    "# M, _ = rfm.rfm(train_loader=train_loader, test_loader=test_loader, iters=2, loader=True, classif=True)"
   ]
  },
  {
   "cell_type": "code",
   "execution_count": 50,
   "metadata": {},
   "outputs": [
    {
     "name": "stdout",
     "output_type": "stream",
     "text": [
      "Round 0 MSE:  2.9599944404181586e-08\n",
      "Round 0 Acc:  1.0\n"
     ]
    },
    {
     "name": "stderr",
     "output_type": "stream",
     "text": [
      "100%|██████████| 4000/4000 [00:00<00:00, 38327.34it/s]\n"
     ]
    },
    {
     "name": "stdout",
     "output_type": "stream",
     "text": [
      "Round 1 MSE:  1.5690786100728188e-08\n",
      "Round 1 Acc:  1.0\n"
     ]
    },
    {
     "name": "stderr",
     "output_type": "stream",
     "text": [
      "100%|██████████| 4000/4000 [00:00<00:00, 37630.41it/s]\n"
     ]
    },
    {
     "name": "stdout",
     "output_type": "stream",
     "text": [
      "Round 2 MSE:  4.174677138866516e-08\n",
      "Round 2 Acc:  1.0\n"
     ]
    },
    {
     "name": "stderr",
     "output_type": "stream",
     "text": [
      "100%|██████████| 4000/4000 [00:00<00:00, 32595.54it/s]\n"
     ]
    },
    {
     "name": "stdout",
     "output_type": "stream",
     "text": [
      "Round 3 MSE:  4.023596240390803e-08\n",
      "Round 3 Acc:  1.0\n"
     ]
    },
    {
     "name": "stderr",
     "output_type": "stream",
     "text": [
      "100%|██████████| 4000/4000 [00:00<00:00, 26280.72it/s]\n"
     ]
    },
    {
     "name": "stdout",
     "output_type": "stream",
     "text": [
      "Round 4 MSE:  3.1842473948794834e-08\n",
      "Round 4 Acc:  1.0\n"
     ]
    },
    {
     "name": "stderr",
     "output_type": "stream",
     "text": [
      "100%|██████████| 4000/4000 [00:00<00:00, 29420.65it/s]\n"
     ]
    },
    {
     "name": "stdout",
     "output_type": "stream",
     "text": [
      "Final MSE:  2.5277833673697656e-08\n",
      " Final Acc:  1.0\n"
     ]
    }
   ],
   "source": [
    "M, _ = rfm.rfm(train_loader=(train_X, train_y), test_loader=(test_X,test_y), iters=5, loader=False, classif=True)"
   ]
  },
  {
   "cell_type": "code",
   "execution_count": 52,
   "metadata": {},
   "outputs": [
    {
     "name": "stderr",
     "output_type": "stream",
     "text": [
      "Clipping input data to the valid range for imshow with RGB data ([0..1] for floats or [0..255] for integers).\n"
     ]
    },
    {
     "data": {
      "image/png": "[encoded data removed]",
      "text/plain": [
       "<Figure size 640x480 with 2 Axes>"
      ]
     },
     "metadata": {},
     "output_type": "display_data"
    }
   ],
   "source": [
    "plt.imshow(M)\n",
    "colorbar = plt.colorbar()"
   ]
  },
  {
   "cell_type": "markdown",
   "metadata": {},
   "source": [
    "Test with random data"
   ]
  },
  {
   "cell_type": "code",
   "execution_count": 26,
   "metadata": {},
   "outputs": [
    {
     "name": "stdout",
     "output_type": "stream",
     "text": [
      "(4000, 20) (4000, 20) (4000, 1) (4000, 1)\n",
      "Round 0 MSE:  0.010444202005884466\n"
     ]
    },
    {
     "name": "stderr",
     "output_type": "stream",
     "text": [
      "100%|██████████| 2000/2000 [00:00<00:00, 111775.08it/s]\n"
     ]
    },
    {
     "name": "stdout",
     "output_type": "stream",
     "text": [
      "Round 1 MSE:  0.004370979007499575\n"
     ]
    },
    {
     "name": "stderr",
     "output_type": "stream",
     "text": [
      "100%|██████████| 2000/2000 [00:00<00:00, 70011.25it/s]\n"
     ]
    },
    {
     "name": "stdout",
     "output_type": "stream",
     "text": [
      "Round 2 MSE:  0.0023196502850792193\n"
     ]
    },
    {
     "name": "stderr",
     "output_type": "stream",
     "text": [
      "100%|██████████| 2000/2000 [00:00<00:00, 44080.04it/s]\n"
     ]
    },
    {
     "name": "stdout",
     "output_type": "stream",
     "text": [
      "Round 3 MSE:  0.0018461104235133207\n"
     ]
    },
    {
     "name": "stderr",
     "output_type": "stream",
     "text": [
      "100%|██████████| 2000/2000 [00:00<00:00, 66567.27it/s]\n"
     ]
    },
    {
     "name": "stdout",
     "output_type": "stream",
     "text": [
      "Round 4 MSE:  0.0017143619605309703\n"
     ]
    },
    {
     "name": "stderr",
     "output_type": "stream",
     "text": [
      "100%|██████████| 2000/2000 [00:00<00:00, 94012.13it/s]\n"
     ]
    },
    {
     "name": "stdout",
     "output_type": "stream",
     "text": [
      "Final MSE:  0.0016761912182947092\n"
     ]
    }
   ],
   "source": [
    "# define target function\n",
    "def fstar(X):\n",
    "    return (X[:, 0] * X[:, 1] * (X[:, 5] > 0))[:,None]\n",
    "\n",
    "# create low rank data\n",
    "n = 4000\n",
    "d = 20\n",
    "X_train = np.random.normal(scale=0.5, size=(n,d))\n",
    "X_test = np.random.normal(scale=0.5, size=(n,d))\n",
    "\n",
    "y_train = fstar(X_train)\n",
    "y_test = fstar(X_test)\n",
    "\n",
    "print(X_train.shape, X_test.shape, y_train.shape, y_test.shape)\n",
    "\n",
    "# run rfm\n",
    "M, _ = rfm.rfm((X_train,y_train),(X_test,y_test), iters=5, loader=False, classif=False)"
   ]
  },
  {
   "cell_type": "code",
   "execution_count": 30,
   "metadata": {},
   "outputs": [
    {
     "data": {
      "text/plain": [
       "array([[-0.00700417],\n",
       "       [ 0.        ],\n",
       "       [ 0.        ],\n",
       "       ...,\n",
       "       [-0.        ],\n",
       "       [ 0.        ],\n",
       "       [-0.        ]])"
      ]
     },
     "execution_count": 30,
     "metadata": {},
     "output_type": "execute_result"
    }
   ],
   "source": [
    "y_train"
   ]
  },
  {
   "cell_type": "code",
   "execution_count": null,
   "metadata": {},
   "outputs": [],
   "source": []
  }
 ],
 "metadata": {
  "kernelspec": {
   "display_name": "Python 3",
   "language": "python",
   "name": "python3"
  },
  "language_info": {
   "codemirror_mode": {
    "name": "ipython",
    "version": 3
   },
   "file_extension": ".py",
   "mimetype": "text/x-python",
   "name": "python",
   "nbconvert_exporter": "python",
   "pygments_lexer": "ipython3",
   "version": "3.10.9"
  }
 },
 "nbformat": 4,
 "nbformat_minor": 0
}
